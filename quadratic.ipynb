{
 "cells": [
  {
   "cell_type": "code",
   "execution_count": 17,
   "metadata": {},
   "outputs": [],
   "source": [
    "import math\n",
    "import numpy as np\n",
    "def quadratic(a, b, c):\n",
    "    discriminant = b**2-4*a*c\n",
    "    if discriminant < 0:\n",
    "        message = \"no real roots\"\n",
    "        root1 = np.nan\n",
    "        root2 = np.nan\n",
    "    else:\n",
    "        message = 'real roots'\n",
    "        root1 = (-b + math.sqrt(discriminant))/2/a\n",
    "        root2 = (-b - math.sqrt(discriminant))/2/a\n",
    "    return(root1, root2, message)"
   ]
  },
  {
   "cell_type": "code",
   "execution_count": 18,
   "metadata": {},
   "outputs": [],
   "source": [
    "a,b,c = 1,4,4"
   ]
  },
  {
   "cell_type": "code",
   "execution_count": 21,
   "metadata": {},
   "outputs": [
    {
     "name": "stdout",
     "output_type": "stream",
     "text": [
      "real roots -2.0 -2.0\n"
     ]
    }
   ],
   "source": [
    "root1, root2, message = quadratic(a, b, c)\n",
    "print(message, root1, root2)"
   ]
  },
  {
   "cell_type": "code",
   "execution_count": 22,
   "metadata": {},
   "outputs": [
    {
     "name": "stdout",
     "output_type": "stream",
     "text": [
      "(nan, nan, 'no real roots')\n"
     ]
    }
   ],
   "source": [
    "print(quadratic(2,3,4))"
   ]
  },
  {
   "cell_type": "code",
   "execution_count": null,
   "metadata": {},
   "outputs": [],
   "source": []
  }
 ],
 "metadata": {
  "kernelspec": {
   "display_name": "Python 3",
   "language": "python",
   "name": "python3"
  },
  "language_info": {
   "codemirror_mode": {
    "name": "ipython",
    "version": 3
   },
   "file_extension": ".py",
   "mimetype": "text/x-python",
   "name": "python",
   "nbconvert_exporter": "python",
   "pygments_lexer": "ipython3",
   "version": "3.6.6"
  }
 },
 "nbformat": 4,
 "nbformat_minor": 2
}
